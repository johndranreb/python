{
 "cells": [
  {
   "cell_type": "markdown",
   "metadata": {},
   "source": [
    "An anagram is the result of rearranging the letters of a word to produce a new word (see wikipedia).\n",
    "\n",
    "Note: anagrams are case insensitive\n",
    "\n",
    "Complete the function to return true if the two arguments given are anagrams of each other; return false otherwise.\n",
    "\n",
    "Examples\n",
    "\"foefet\" is an anagram of \"toffee\"\n",
    "\n",
    "\"Buckethead\" is an anagram of \"DeathCubeK\""
   ]
  },
  {
   "cell_type": "code",
   "execution_count": 24,
   "metadata": {},
   "outputs": [],
   "source": [
    "def is_anagram(word1, word2):\n",
    "    word1 = word1.lower()\n",
    "    word2 = word2.lower()\n",
    "    sorted_word1 = sorted(word1)\n",
    "    sorted_word2 = sorted(word2)\n",
    "\n",
    "    if sorted_word1 == sorted_word2:\n",
    "        return True\n",
    "    else:\n",
    "        return False\n",
    "\n",
    "    print(is_anagram)\n",
    "\n",
    "  \n",
    "  "
   ]
  },
  {
   "cell_type": "markdown",
   "metadata": {},
   "source": [
    "Write a function that checks if a given string (case insensitive) is a palindrome. A palindrome is a word, number, phrase, or other sequence of symbols that reads the same backwards as forwards, such as madam or racecar, the date and time 12/21/33 12:21, and the sentence: \"A man, a plan, a canal – Panama\"."
   ]
  },
  {
   "cell_type": "code",
   "execution_count": 12,
   "metadata": {},
   "outputs": [],
   "source": [
    "\n",
    "def is_palindrome(s):\n",
    "    s = s.lower()\n",
    "    return s == s[::-1]\n",
    "    \n",
    "\n"
   ]
  },
  {
   "cell_type": "markdown",
   "metadata": {},
   "source": [
    "Can you find the needle in the haystack?\n",
    "\n",
    "Write a function findNeedle() that takes an array full of junk but containing one \"needle\"\n",
    "\n",
    "After your function finds the needle it should return a message (as a string) that says:\n",
    "\n",
    "\"found the needle at position \" plus the index it found the needle, so:\n",
    "\n",
    "Example(Input --> Output)\n",
    "\n",
    "[\"hay\", \"junk\", \"hay\", \"hay\", \"moreJunk\", \"needle\", \"randomJunk\"] --> \"found the needle at position 5\" \n",
    "Note: In COBOL, it should return \"found the needle at position 6\""
   ]
  },
  {
   "cell_type": "code",
   "execution_count": null,
   "metadata": {},
   "outputs": [],
   "source": [
    "def find_needle(haystack):\n",
    "    for index, item in enumerate(haystack):\n",
    "        if item == 'needle':\n",
    "            return(f'found the needle at position {index}')\n",
    "        \n",
    "        \n",
    "        \n",
    "#or\n",
    "\n",
    "def find_needle(haystack): return 'found the needle at position %d' % haystack.index('needle')\n",
    "\n",
    "#or\n",
    "\n",
    "return f'found the needle at position {haystack.index(\"needle\")}'"
   ]
  },
  {
   "cell_type": "markdown",
   "metadata": {},
   "source": [
    "Your task is to convert strings to how they would be written by Jaden Smith. The strings are actual quotes from Jaden Smith, but they are not capitalized in the same way he originally typed them.\n",
    "\n",
    "Example:\n",
    "\n",
    "Not Jaden-Cased: \"How can mirrors be real if our eyes aren't real\"\n",
    "Jaden-Cased:     \"How Can Mirrors Be Real If Our Eyes Aren't Real\""
   ]
  },
  {
   "cell_type": "code",
   "execution_count": 21,
   "metadata": {},
   "outputs": [],
   "source": [
    "\n",
    "\n",
    "def to_jaden_case(string):\n"
   ]
  },
  {
   "cell_type": "markdown",
   "metadata": {},
   "source": [
    "Return the number (count) of vowels in the given string.\n",
    "\n",
    "We will consider a, e, i, o, u as vowels for this Kata (but not y).\n",
    "\n",
    "The input string will only consist of lower case letters and/or spaces."
   ]
  },
  {
   "cell_type": "code",
   "execution_count": 23,
   "metadata": {},
   "outputs": [],
   "source": [
    "def get_count(sentence):\n",
    "    return sum(sentence.count(vowel) for vowel in 'aeiou')\n",
    "\n",
    "#or\n",
    "\n",
    "return sum(1 for let in inputStr if let in \"aeiouAEIOU\")"
   ]
  },
  {
   "cell_type": "markdown",
   "metadata": {},
   "source": [
    "Your task is to make a function that can take any non-negative integer as an argument and return it with its digits in descending order. Essentially, rearrange the digits to create the highest possible number."
   ]
  },
  {
   "cell_type": "code",
   "execution_count": 6,
   "metadata": {},
   "outputs": [
    {
     "ename": "SyntaxError",
     "evalue": "invalid syntax. Perhaps you forgot a comma? (3743333012.py, line 2)",
     "output_type": "error",
     "traceback": [
      "\u001b[1;36m  Cell \u001b[1;32mIn[6], line 2\u001b[1;36m\u001b[0m\n\u001b[1;33m    return sorted(','.join str(num), reverse=True)\u001b[0m\n\u001b[1;37m                  ^\u001b[0m\n\u001b[1;31mSyntaxError\u001b[0m\u001b[1;31m:\u001b[0m invalid syntax. Perhaps you forgot a comma?\n"
     ]
    }
   ],
   "source": [
    "def descending_order(num):\n",
    "    return sorted(''.join str(num), reverse=True)\n",
    "    \n",
    "descending_order(51)"
   ]
  }
 ],
 "metadata": {
  "kernelspec": {
   "display_name": "Python 3",
   "language": "python",
   "name": "python3"
  },
  "language_info": {
   "codemirror_mode": {
    "name": "ipython",
    "version": 3
   },
   "file_extension": ".py",
   "mimetype": "text/x-python",
   "name": "python",
   "nbconvert_exporter": "python",
   "pygments_lexer": "ipython3",
   "version": "3.11.3"
  },
  "orig_nbformat": 4
 },
 "nbformat": 4,
 "nbformat_minor": 2
}
