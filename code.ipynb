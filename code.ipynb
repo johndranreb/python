{
 "cells": [
  {
   "cell_type": "code",
   "execution_count": 2,
   "metadata": {},
   "outputs": [
    {
     "name": "stdout",
     "output_type": "stream",
     "text": [
      "hello world\n"
     ]
    }
   ],
   "source": [
    "print(\"hello world\")"
   ]
  },
  {
   "cell_type": "markdown",
   "metadata": {},
   "source": [
    "Varaibles and Data Types\n",
    "\n",
    "int = 1, -1\n",
    "flot = 1.25\n",
    "boolean = True, False\n",
    "sting = 'JB'"
   ]
  },
  {
   "cell_type": "code",
   "execution_count": 10,
   "metadata": {},
   "outputs": [
    {
     "name": "stdout",
     "output_type": "stream",
     "text": [
      "99\n",
      "98\n",
      "99,0.75,B\n",
      "My avarage is 0.75\n"
     ]
    }
   ],
   "source": [
    "my_grade = 98\n",
    "my_average = 0.75\n",
    "my_name = 'Jb'\n",
    "my_middle_initial = 'B'\n",
    "is_lights_on = True\n",
    "\n",
    "new_grade = my_grade\n",
    "my_grade= 99\n",
    "\n",
    "print(my_grade)\n",
    "print(new_grade)\n",
    "print(my_grade, my_average, my_middle_initial, sep=\",\")\n",
    "print(f\"My avarage is {my_average}\")"
   ]
  },
  {
   "cell_type": "markdown",
   "metadata": {},
   "source": [
    "Basic Input and Output\n",
    "-use input() to get user input\n",
    "-display output using print()"
   ]
  },
  {
   "cell_type": "code",
   "execution_count": 23,
   "metadata": {},
   "outputs": [
    {
     "name": "stdout",
     "output_type": "stream",
     "text": [
      "Hi, Jb\n",
      "Hi, jb, \n",
      " your age is 30\n",
      "h1 jb\n"
     ]
    }
   ],
   "source": [
    "my_name = input('What is your name?')\n",
    "my_age = input('What is your age?')\n",
    "print(f\"Hi, {my_name.capitalize()}\")\n",
    "print(\"Hi, {}, \\n your age is {}\".format(my_name, my_age))\n",
    "\n",
    "print('h1 %s' % my_name)"
   ]
  },
  {
   "cell_type": "markdown",
   "metadata": {},
   "source": [
    "Even or Odd"
   ]
  },
  {
   "cell_type": "code",
   "execution_count": null,
   "metadata": {},
   "outputs": [],
   "source": [
    "var_num_even = 64\n",
    "var_num_odd = 7\n",
    "\n",
    "#var_num_even % 2 #0\n",
    "#var_num_odd % 2 #0\n",
    "\n",
    "def check_if_num_is_even(num):\n",
    "    return True\n",
    "    #if num % 2 is zero, num is even\n",
    "    #other results, num is odd\n",
    "    print (num % 2)\n",
    "    \n",
    "    check_if_num_is_even(64)"
   ]
  }
 ],
 "metadata": {
  "kernelspec": {
   "display_name": "Python 3",
   "language": "python",
   "name": "python3"
  },
  "language_info": {
   "codemirror_mode": {
    "name": "ipython",
    "version": 3
   },
   "file_extension": ".py",
   "mimetype": "text/x-python",
   "name": "python",
   "nbconvert_exporter": "python",
   "pygments_lexer": "ipython3",
   "version": "3.11.3"
  },
  "orig_nbformat": 4
 },
 "nbformat": 4,
 "nbformat_minor": 2
}
